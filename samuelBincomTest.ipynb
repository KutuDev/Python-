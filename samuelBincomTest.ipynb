{
 "cells": [
  {
   "cell_type": "code",
   "execution_count": 59,
   "metadata": {},
   "outputs": [],
   "source": [
    "import re\n",
    "from operator import itemgetter\n",
    "from collections import Counter\n",
    "import psycopg2\n",
    "from psycopg2 import OperationalError\n",
    "import pandas as pd\n",
    "from random import sample\n",
    "from string import digits\n",
    "from sklearn import preprocessing\n",
    "import numpy as np"
   ]
  },
  {
   "cell_type": "code",
   "execution_count": 2,
   "metadata": {},
   "outputs": [],
   "source": [
    "file_path = r\"C:\\Users\\Samuel\\Documents\\python_class_question.html\" "
   ]
  },
  {
   "cell_type": "code",
   "execution_count": 3,
   "metadata": {},
   "outputs": [],
   "source": [
    "with open(file_path, \"r\") as file_obj:\n",
    "    html_txt  = file_obj.readlines()"
   ]
  },
  {
   "cell_type": "code",
   "execution_count": 4,
   "metadata": {},
   "outputs": [
    {
     "data": {
      "text/plain": [
       "'\\t\\t<td>MONDAY</td>\\n'"
      ]
     },
     "execution_count": 4,
     "metadata": {},
     "output_type": "execute_result"
    }
   ],
   "source": [
    "html_txt[40]"
   ]
  },
  {
   "cell_type": "code",
   "execution_count": 5,
   "metadata": {},
   "outputs": [],
   "source": [
    "days_pattern = r\"\\s\\s<td>(\\w+)</td>\\s\"\n",
    "\n",
    "days = []\n",
    "\n",
    "for i in html_txt:\n",
    "    match_name = re.findall(days_pattern, i)\n",
    "    \n",
    "    if len(match_name) != 0:\n",
    "        days.append(match_name)\n",
    "\n",
    "days = [j for i in days for j in i]"
   ]
  },
  {
   "cell_type": "code",
   "execution_count": 6,
   "metadata": {},
   "outputs": [
    {
     "data": {
      "text/plain": [
       "['MONDAY', 'TUESDAY', 'WEDNESDAY', 'THURSDAY', 'FRIDAY']"
      ]
     },
     "execution_count": 6,
     "metadata": {},
     "output_type": "execute_result"
    }
   ],
   "source": [
    "days"
   ]
  },
  {
   "cell_type": "code",
   "execution_count": 7,
   "metadata": {},
   "outputs": [
    {
     "data": {
      "text/plain": [
       "'\\t\\t<td>GREEN, YELLOW, GREEN, BROWN, BLUE, PINK, BLUE, YELLOW, ORANGE, CREAM, ORANGE, RED, WHITE, BLUE, WHITE, BLUE, BLUE, BLUE, GREEN</td>\\n'"
      ]
     },
     "execution_count": 7,
     "metadata": {},
     "output_type": "execute_result"
    }
   ],
   "source": [
    "html_txt[41]"
   ]
  },
  {
   "cell_type": "code",
   "execution_count": 8,
   "metadata": {},
   "outputs": [],
   "source": [
    "colors_pattern = r\"\\s\\s<td>(\\w+,\\s\\w+,\\s\\w+,\\s\\w+,\\s\\w+,\\s\\w+,\\s\\w+,\\s\\w+,\\s\\w+,\\s\\w+,\\s\\w+,\\s\\w+,\\s\\w+,\\s\\w+,\\s\\w+,\\s\\w+,\\s\\w+,\\s\\w+,\\s\\w+)</td>\\s\"\n",
    "\n",
    "color = []\n",
    "\n",
    "for i in html_txt:\n",
    "    match_name = re.findall(colors_pattern, i)\n",
    "    \n",
    "    if len(match_name) != 0:\n",
    "        color.append(match_name)\n",
    "\n",
    "colors = [j.split(\", \") for i in color for j in i] "
   ]
  },
  {
   "cell_type": "code",
   "execution_count": 9,
   "metadata": {},
   "outputs": [
    {
     "data": {
      "text/plain": [
       "['GREEN',\n",
       " 'YELLOW',\n",
       " 'GREEN',\n",
       " 'BROWN',\n",
       " 'BLUE',\n",
       " 'PINK',\n",
       " 'BLUE',\n",
       " 'YELLOW',\n",
       " 'ORANGE',\n",
       " 'CREAM',\n",
       " 'ORANGE',\n",
       " 'RED',\n",
       " 'WHITE',\n",
       " 'BLUE',\n",
       " 'WHITE',\n",
       " 'BLUE',\n",
       " 'BLUE',\n",
       " 'BLUE',\n",
       " 'GREEN']"
      ]
     },
     "execution_count": 9,
     "metadata": {},
     "output_type": "execute_result"
    }
   ],
   "source": [
    "colors[0]"
   ]
  },
  {
   "cell_type": "code",
   "execution_count": 10,
   "metadata": {},
   "outputs": [],
   "source": [
    "data = {i:j for i,j in zip(days, colors)} "
   ]
  },
  {
   "cell_type": "code",
   "execution_count": 11,
   "metadata": {},
   "outputs": [
    {
     "data": {
      "text/plain": [
       "dict_items([('MONDAY', ['GREEN', 'YELLOW', 'GREEN', 'BROWN', 'BLUE', 'PINK', 'BLUE', 'YELLOW', 'ORANGE', 'CREAM', 'ORANGE', 'RED', 'WHITE', 'BLUE', 'WHITE', 'BLUE', 'BLUE', 'BLUE', 'GREEN']), ('TUESDAY', ['ARSH', 'BROWN', 'GREEN', 'BROWN', 'BLUE', 'BLUE', 'BLEW', 'PINK', 'PINK', 'ORANGE', 'ORANGE', 'RED', 'WHITE', 'BLUE', 'WHITE', 'WHITE', 'BLUE', 'BLUE', 'BLUE']), ('WEDNESDAY', ['GREEN', 'YELLOW', 'GREEN', 'BROWN', 'BLUE', 'PINK', 'RED', 'YELLOW', 'ORANGE', 'RED', 'ORANGE', 'RED', 'BLUE', 'BLUE', 'WHITE', 'BLUE', 'BLUE', 'WHITE', 'WHITE']), ('THURSDAY', ['BLUE', 'BLUE', 'GREEN', 'WHITE', 'BLUE', 'BROWN', 'PINK', 'YELLOW', 'ORANGE', 'CREAM', 'ORANGE', 'RED', 'WHITE', 'BLUE', 'WHITE', 'BLUE', 'BLUE', 'BLUE', 'GREEN']), ('FRIDAY', ['GREEN', 'WHITE', 'GREEN', 'BROWN', 'BLUE', 'BLUE', 'BLACK', 'WHITE', 'ORANGE', 'RED', 'RED', 'RED', 'WHITE', 'BLUE', 'WHITE', 'BLUE', 'BLUE', 'BLUE', 'WHITE'])])"
      ]
     },
     "execution_count": 11,
     "metadata": {},
     "output_type": "execute_result"
    }
   ],
   "source": [
    "data.items()"
   ]
  },
  {
   "cell_type": "code",
   "execution_count": 12,
   "metadata": {},
   "outputs": [
    {
     "name": "stdout",
     "output_type": "stream",
     "text": [
      "ARSH\n",
      "BLEW\n"
     ]
    }
   ],
   "source": [
    "print(list(data.get('TUESDAY'))[0])\n",
    "print(list(data.get('TUESDAY'))[6])"
   ]
  },
  {
   "cell_type": "markdown",
   "metadata": {},
   "source": [
    "# CLEAN-UP OF DATA\n",
    "It can be seen from the cell above that 2 colors were mispelt. Here, I corrected the mistake."
   ]
  },
  {
   "cell_type": "code",
   "execution_count": 13,
   "metadata": {},
   "outputs": [],
   "source": [
    "temp = list(data.get(\"TUESDAY\")) \n",
    "\n",
    "for idx, i in enumerate(temp):\n",
    "    if i == \"ARSH\":\n",
    "        temp[idx] = \"ASH\"\n",
    "    elif i == \"BLEW\":\n",
    "        temp[idx] = \"BLUE\"\n",
    "        \n",
    "data[\"TUESDAY\"] = temp"
   ]
  },
  {
   "cell_type": "code",
   "execution_count": 14,
   "metadata": {
    "scrolled": true
   },
   "outputs": [
    {
     "name": "stdout",
     "output_type": "stream",
     "text": [
      "ASH\n",
      "BLUE\n"
     ]
    }
   ],
   "source": [
    "print(list(data.get('TUESDAY'))[0])\n",
    "print(list(data.get('TUESDAY'))[6])"
   ]
  },
  {
   "cell_type": "code",
   "execution_count": 15,
   "metadata": {},
   "outputs": [],
   "source": [
    "all_colors = [j for i in list(data.values()) for j in i] "
   ]
  },
  {
   "cell_type": "code",
   "execution_count": 16,
   "metadata": {},
   "outputs": [
    {
     "name": "stdout",
     "output_type": "stream",
     "text": [
      "Total colors: 95\n"
     ]
    }
   ],
   "source": [
    "print(f\"Total colors: {len(all_colors)}\")"
   ]
  },
  {
   "cell_type": "code",
   "execution_count": 17,
   "metadata": {},
   "outputs": [],
   "source": [
    "unique_colors = [] \n",
    "for i in all_colors:\n",
    "    if i not in unique_colors:\n",
    "        unique_colors.append(i) "
   ]
  },
  {
   "cell_type": "code",
   "execution_count": 18,
   "metadata": {
    "scrolled": true
   },
   "outputs": [
    {
     "name": "stdout",
     "output_type": "stream",
     "text": [
      "Total unique colors: 11\n"
     ]
    }
   ],
   "source": [
    "print(f\"Total unique colors: {len(unique_colors)}\")"
   ]
  },
  {
   "cell_type": "markdown",
   "metadata": {},
   "source": [
    "## Color and Frequency Dictionary"
   ]
  },
  {
   "cell_type": "code",
   "execution_count": 92,
   "metadata": {},
   "outputs": [
    {
     "data": {
      "text/plain": [
       "{'ASH': 1,\n",
       " 'BLACK': 1,\n",
       " 'BLUE': 31,\n",
       " 'BROWN': 6,\n",
       " 'CREAM': 2,\n",
       " 'GREEN': 10,\n",
       " 'ORANGE': 9,\n",
       " 'PINK': 5,\n",
       " 'RED': 9,\n",
       " 'WHITE': 16,\n",
       " 'YELLOW': 5}"
      ]
     },
     "execution_count": 92,
     "metadata": {},
     "output_type": "execute_result"
    }
   ],
   "source": [
    "colors_freq = dict(Counter(sorted(all_colors)))\n",
    "colors_freq"
   ]
  },
  {
   "cell_type": "markdown",
   "metadata": {},
   "source": [
    "## Q1 solution"
   ]
  },
  {
   "cell_type": "markdown",
   "metadata": {},
   "source": [
    "**Explanation:** Here, I encoded all colors before calculating the mean."
   ]
  },
  {
   "cell_type": "code",
   "execution_count": 76,
   "metadata": {},
   "outputs": [
    {
     "name": "stdout",
     "output_type": "stream",
     "text": [
      "The mean colour of shirt is GREEN\n"
     ]
    }
   ],
   "source": [
    "le = preprocessing.LabelEncoder()\n",
    "le.fit(all_colors)\n",
    "\n",
    "code = list(le.transform(all_colors))\n",
    "color_code = {i:j for i,j in zip(all_colors, code)}\n",
    "\n",
    "for i, j in zip(color_code.keys(), color_code.values()):\n",
    "    if j == round(np.mean(code)):\n",
    "        mean_color = i \n",
    "\n",
    "print(f\"The mean colour of shirt is {mean_color}\")"
   ]
  },
  {
   "cell_type": "markdown",
   "metadata": {},
   "source": [
    "## Q2 solution"
   ]
  },
  {
   "cell_type": "code",
   "execution_count": 22,
   "metadata": {},
   "outputs": [
    {
     "name": "stdout",
     "output_type": "stream",
     "text": [
      "The most worn colour throughout the week is BLUE\n"
     ]
    }
   ],
   "source": [
    "for i in colors_freq.keys():\n",
    "    if colors_freq.get(i) == max(colors_freq.values()):\n",
    "        print(f\"The most worn colour throughout the week is {i}\")"
   ]
  },
  {
   "cell_type": "markdown",
   "metadata": {},
   "source": [
    "## Q3 solution"
   ]
  },
  {
   "cell_type": "markdown",
   "metadata": {},
   "source": [
    "**Explanation:** Here, I sorted the dictionary containing each colors and their respective frequencies based on the frequency in ascending order before getting the median value "
   ]
  },
  {
   "cell_type": "code",
   "execution_count": 87,
   "metadata": {},
   "outputs": [
    {
     "name": "stdout",
     "output_type": "stream",
     "text": [
      "The median colour of shirt is BROWN\n"
     ]
    }
   ],
   "source": [
    "sorted_colors_freq = dict(sorted(colors_freq.items(), key = itemgetter(1)))\n",
    "sorted_colors_freq_list = list(sorted_colors_freq.keys())\n",
    "\n",
    "print(f\"The median colour of shirt is {sorted_colors_freq_list[int((len(sorted_colors_freq_list)-1)/2)]}\")"
   ]
  },
  {
   "cell_type": "markdown",
   "metadata": {},
   "source": [
    "## Q4 solution"
   ]
  },
  {
   "cell_type": "markdown",
   "metadata": {},
   "source": [
    "**Explanation:** I used the encoded color values here to get the variance"
   ]
  },
  {
   "cell_type": "code",
   "execution_count": 91,
   "metadata": {},
   "outputs": [
    {
     "name": "stdout",
     "output_type": "stream",
     "text": [
      "The variance colour of shirt is WHITE\n"
     ]
    }
   ],
   "source": [
    "for i, j in zip(color_code.keys(), color_code.values()):\n",
    "    if j == round(np.std(code) ** 2):\n",
    "        variance_color = i \n",
    "\n",
    "print(f\"The variance of the colors is {variance_color}\")"
   ]
  },
  {
   "cell_type": "markdown",
   "metadata": {},
   "source": [
    "## Q5 solution"
   ]
  },
  {
   "cell_type": "code",
   "execution_count": 94,
   "metadata": {},
   "outputs": [
    {
     "name": "stdout",
     "output_type": "stream",
     "text": [
      "The probability that a randomly choosen color is RED is 0.09\n"
     ]
    }
   ],
   "source": [
    "print(f\"The probability that a randomly choosen color is RED is {round(colors_freq.get('RED')/len(all_colors), 2)}\")"
   ]
  },
  {
   "cell_type": "markdown",
   "metadata": {},
   "source": [
    "## Q6 solution"
   ]
  },
  {
   "cell_type": "code",
   "execution_count": 28,
   "metadata": {},
   "outputs": [
    {
     "name": "stdout",
     "output_type": "stream",
     "text": [
      "Connection to PostgreSQL DB successful\n",
      "\n",
      "    Serial Nos   Color  Frequency\n",
      "0            1     ASH          1\n",
      "1            2   BLACK          1\n",
      "2            3    BLUE         31\n",
      "3            4   BROWN          6\n",
      "4            5   CREAM          2\n",
      "5            6   GREEN         10\n",
      "6            7  ORANGE          9\n",
      "7            8    PINK          5\n",
      "8            9     RED          9\n",
      "9           10   WHITE         16\n",
      "10          11  YELLOW          5\n",
      "\n",
      "Total queries executed successfully: 13\n"
     ]
    }
   ],
   "source": [
    "user_password = \"kutu\"\n",
    "host_name = \"127.0.0.1\"\n",
    "user_name = \"postgres\"\n",
    "port = 5432\n",
    "cnt = 0\n",
    "table_name = \"color_and_freq\"\n",
    "\n",
    "def create_connection(host_name, user_name, user_password, database = \"postgres\"):\n",
    "    connection = None\n",
    "    \n",
    "    try:\n",
    "        connection = psycopg2.connect(host = host_name,\n",
    "                                   user = user_name,\n",
    "                                   password = user_password,\n",
    "                                   port = port,\n",
    "                                   database = database)\n",
    "        \n",
    "        print(\"Connection to PostgreSQL DB successful\", sep = \"\\n\")\n",
    "    except OperationalError as e:\n",
    "        print(f\"The error '{e}' occurred\", sep = \"\\n\")\n",
    "    \n",
    "    return connection\n",
    "\n",
    "def setup():\n",
    "    connection = create_connection(host_name, user_name, user_password)\n",
    "    return connection\n",
    "\n",
    "def execute_query(connection, query):\n",
    "    global cnt\n",
    "    \n",
    "    cnt+=1\n",
    "    connection.autocommit = True\n",
    "    cursor = connection.cursor()\n",
    "    \n",
    "    try:\n",
    "        cursor.execute(query)\n",
    "    except OperationalError as e:\n",
    "        print(f\"The error '{e}' occurred\")\n",
    "\n",
    "\n",
    "def execute_read_query(connection, query):\n",
    "    global cnt\n",
    "    \n",
    "    cnt+=1\n",
    "    cursor = connection.cursor()\n",
    "    result = None\n",
    "    \n",
    "    try:\n",
    "        cursor.execute(query)\n",
    "        result = cursor.fetchall()\n",
    "        return result\n",
    "    except OperationalError as e:\n",
    "        print(f\"The error {e} occurred\")\n",
    "        \n",
    "\n",
    "def color_freq_extractor(colors_freq):\n",
    "    color = []\n",
    "    freq = []\n",
    "    \n",
    "    for i,j in zip(colors_freq.keys(), colors_freq.values()):\n",
    "        color.append(i)\n",
    "        freq.append(j)\n",
    "    \n",
    "    return color, freq\n",
    "\n",
    "def main():\n",
    "    \n",
    "    connection = setup()\n",
    "    \n",
    "    CREATE_table = f''' \n",
    "            CREATE TABLE IF NOT EXISTS {table_name}\n",
    "            (\n",
    "             \tserial_no SERIAL NOT NULL PRIMARY KEY,\n",
    "                color TEXT NOT NULL,\n",
    "                frequency INTEGER NOT NULL\n",
    "            );\n",
    "            '''\n",
    "    \n",
    "    READ_table = f\"SELECT * FROM {table_name};\"\n",
    "    \n",
    "    execute_query(connection, CREATE_table)\n",
    "    \n",
    "    color, freq = color_freq_extractor(colors_freq)\n",
    "    serial_no = [i for i in range(1, len(color)+1)]\n",
    "    \n",
    "    \n",
    "    for i, j, k in zip(serial_no, color, freq):\n",
    "        insert_into_table = f'''INSERT INTO {table_name} (serial_no, color, frequency) VALUES \n",
    "    {(i, j, k)};'''\n",
    "        \n",
    "        execute_query(connection, insert_into_table)\n",
    "    \n",
    "    result = execute_read_query(connection, READ_table)\n",
    "    \n",
    "    print()\n",
    "    result_set = pd.DataFrame(result, columns = [\"Serial Nos\", \"Color\", \"Frequency\"])\n",
    "    print(result_set)\n",
    "    print()\n",
    "    \n",
    "    print(f\"Total queries executed successfully: {cnt}\")\n",
    "    \n",
    "    connection.close()\n",
    "    \n",
    "main()"
   ]
  },
  {
   "cell_type": "markdown",
   "metadata": {},
   "source": [
    "## Q7 solution"
   ]
  },
  {
   "cell_type": "code",
   "execution_count": 29,
   "metadata": {},
   "outputs": [
    {
     "name": "stdin",
     "output_type": "stream",
     "text": [
      "Enter a number please:  87\n"
     ]
    },
    {
     "name": "stdout",
     "output_type": "stream",
     "text": [
      "\n",
      "Your number 87 FOUND in list.\n"
     ]
    }
   ],
   "source": [
    "def recursive_search(item, my_list):\n",
    "    my_list = sorted(my_list)\n",
    "    found = False\n",
    "    first = 0\n",
    "    last = len(my_list) - 1\n",
    "    \n",
    "    while first <= last and found == False:\n",
    "        midpoint = (first + last) // 2\n",
    "        \n",
    "        if my_list[midpoint] == item:\n",
    "            found = True\n",
    "        else:\n",
    "            if my_list[midpoint] < item:\n",
    "                first = midpoint + 1\n",
    "            else:\n",
    "                last = midpoint - 1\n",
    "    return found\n",
    "\n",
    "\n",
    "my_list = [70, 24, 87, 45, 6, 3, 2, 8, 5]\n",
    "\n",
    "user_input = int(input(\"Enter a number please: \"))\n",
    "\n",
    "status = recursive_search(user_input, my_list)\n",
    "\n",
    "if status:\n",
    "    print()\n",
    "    print(f\"Your number {user_input} FOUND in list.\")\n",
    "else:\n",
    "    print()\n",
    "    print(f\"Your number {user_input} NOT FOUND in list.\") "
   ]
  },
  {
   "cell_type": "markdown",
   "metadata": {},
   "source": [
    "## Q8 solution"
   ]
  },
  {
   "cell_type": "code",
   "execution_count": 34,
   "metadata": {},
   "outputs": [
    {
     "name": "stdout",
     "output_type": "stream",
     "text": [
      "1010₂ = 10\n"
     ]
    }
   ],
   "source": [
    "binary_num = \"\".join(sample(bin(int(digits)), 4))\n",
    "print(f\"{binary_num}\\N{Subscript Two} = {int(binary_num, 2)}\")"
   ]
  },
  {
   "cell_type": "markdown",
   "metadata": {},
   "source": [
    "## Q9 solution"
   ]
  },
  {
   "cell_type": "code",
   "execution_count": 31,
   "metadata": {},
   "outputs": [
    {
     "name": "stdout",
     "output_type": "stream",
     "text": [
      "The sum of the first 50 terms of a fibonacci sequence is 20365011073.\n",
      "\n"
     ]
    }
   ],
   "source": [
    "terms = 50\n",
    "fibonacci_seq = [0, 1]\n",
    "\n",
    "while len(fibonacci_seq) != terms:\n",
    "    if terms > 2:\n",
    "        fibonacci_seq.append(sum(fibonacci_seq[-2:]))\n",
    "        \n",
    "print(f\"The sum of the first {terms} terms of a fibonacci sequence is {sum(fibonacci_seq)}.\")\n",
    "print()"
   ]
  },
  {
   "cell_type": "code",
   "execution_count": null,
   "metadata": {},
   "outputs": [],
   "source": []
  }
 ],
 "metadata": {
  "kernelspec": {
   "display_name": "Python 3",
   "language": "python",
   "name": "python3"
  },
  "language_info": {
   "codemirror_mode": {
    "name": "ipython",
    "version": 3
   },
   "file_extension": ".py",
   "mimetype": "text/x-python",
   "name": "python",
   "nbconvert_exporter": "python",
   "pygments_lexer": "ipython3",
   "version": "3.7.6"
  }
 },
 "nbformat": 4,
 "nbformat_minor": 4
}
