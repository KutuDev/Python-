{
 "cells": [
  {
   "cell_type": "code",
   "execution_count": 270,
   "metadata": {},
   "outputs": [],
   "source": [
    "from operator import itemgetter\n",
    "from collections import Counter\n",
    "from random import sample\n",
    "from string import digits"
   ]
  },
  {
   "cell_type": "code",
   "execution_count": 256,
   "metadata": {},
   "outputs": [],
   "source": [
    "mon = \"GREEN, YELLOW, GREEN, BROWN, BLUE, PINK, BLUE, YELLOW, ORANGE, CREAM, ORANGE, RED, WHITE, BLUE, WHITE, BLUE, BLUE, BLUE, GREEN\".split(\", \")\n",
    "tues = \"ARSH, BROWN, GREEN, BROWN, BLUE, BLUE, BLEW, PINK, PINK, ORANGE, ORANGE, RED, WHITE, BLUE, WHITE, WHITE, BLUE, BLUE, BLUE\".split(\", \")\n",
    "wed = \"GREEN, YELLOW, GREEN, BROWN, BLUE, PINK, RED, YELLOW, ORANGE, RED, ORANGE, RED, BLUE, BLUE, WHITE, BLUE, BLUE, WHITE, WHITE\".split(\", \")\n",
    "thurs = \"BLUE, BLUE, GREEN, WHITE, BLUE, BROWN, PINK, YELLOW, ORANGE, CREAM, ORANGE, RED, WHITE, BLUE, WHITE, BLUE, BLUE, BLUE, GREEN\".split(\", \")\n",
    "fri = \"GREEN, WHITE, GREEN, BROWN, BLUE, BLUE, BLACK, WHITE, ORANGE, RED, RED, RED, WHITE, BLUE, WHITE, BLUE, BLUE, BLUE, WHITE\".split(\", \")"
   ]
  },
  {
   "cell_type": "markdown",
   "metadata": {},
   "source": [
    "CLEAN-UP OF DATA"
   ]
  },
  {
   "cell_type": "code",
   "execution_count": 257,
   "metadata": {},
   "outputs": [],
   "source": [
    "for idx, i in enumerate(tues):\n",
    "    if i == \"ARSH\":\n",
    "        tues[idx] = \"ASH\"\n",
    "    elif i == \"BLEW\":\n",
    "        tues[idx] = \"BLUE\""
   ]
  },
  {
   "cell_type": "code",
   "execution_count": 258,
   "metadata": {},
   "outputs": [],
   "source": [
    "temp = list(set(mon+tues+wed+thurs+fri))"
   ]
  },
  {
   "cell_type": "markdown",
   "metadata": {},
   "source": [
    "Q1 solution"
   ]
  },
  {
   "cell_type": "code",
   "execution_count": 259,
   "metadata": {},
   "outputs": [
    {
     "name": "stdout",
     "output_type": "stream",
     "text": [
      "The mean colour of shirt is ORANGE\n"
     ]
    }
   ],
   "source": [
    "print(f\"The mean colour of shirt is {temp[int((len(temp)-1)/2)]}\")"
   ]
  },
  {
   "cell_type": "code",
   "execution_count": 260,
   "metadata": {},
   "outputs": [],
   "source": [
    "colors = list(mon+tues+wed+thurs+fri)"
   ]
  },
  {
   "cell_type": "code",
   "execution_count": 261,
   "metadata": {},
   "outputs": [],
   "source": [
    "colors_freq = dict(Counter(sorted(colors)))"
   ]
  },
  {
   "cell_type": "markdown",
   "metadata": {},
   "source": [
    "Q2 solution"
   ]
  },
  {
   "cell_type": "code",
   "execution_count": 263,
   "metadata": {},
   "outputs": [
    {
     "name": "stdout",
     "output_type": "stream",
     "text": [
      "The most worn colour throughout the week is: BLUE\n"
     ]
    }
   ],
   "source": [
    "for i in colors_freq.keys():\n",
    "    if colors_freq.get(i) == max(colors_freq.values()):\n",
    "        print(f\"The most worn colour throughout the week is {i}\")"
   ]
  },
  {
   "cell_type": "code",
   "execution_count": 264,
   "metadata": {},
   "outputs": [],
   "source": [
    "sorted_colors_freq = dict(sorted(colors_freq.items(), key = itemgetter(1)))"
   ]
  },
  {
   "cell_type": "code",
   "execution_count": 265,
   "metadata": {},
   "outputs": [],
   "source": [
    "sorted_colors_freq_list = list(sorted_colors_freq.keys())"
   ]
  },
  {
   "cell_type": "markdown",
   "metadata": {},
   "source": [
    "Q3 solution"
   ]
  },
  {
   "cell_type": "code",
   "execution_count": 266,
   "metadata": {},
   "outputs": [
    {
     "name": "stdout",
     "output_type": "stream",
     "text": [
      "The median colour of shirt is BROWN\n"
     ]
    }
   ],
   "source": [
    "print(f\"The median colour of shirt is {sorted_colors_freq_list[int((len(sorted_colors_freq_list)-1)/2)]}\")"
   ]
  },
  {
   "cell_type": "markdown",
   "metadata": {},
   "source": [
    "Q8 solution"
   ]
  },
  {
   "cell_type": "code",
   "execution_count": 268,
   "metadata": {},
   "outputs": [
    {
     "name": "stdout",
     "output_type": "stream",
     "text": [
      "6\n"
     ]
    }
   ],
   "source": [
    "binary_num = \"\".join(sample(bin(int(digits)), 4))\n",
    "print(int(binary_num, 2))"
   ]
  },
  {
   "cell_type": "markdown",
   "metadata": {},
   "source": [
    "Q9 solution"
   ]
  },
  {
   "cell_type": "code",
   "execution_count": 269,
   "metadata": {},
   "outputs": [
    {
     "name": "stdout",
     "output_type": "stream",
     "text": [
      "The sum of the first 50 terms in a Fibonacci sequence is 20365011073\n"
     ]
    }
   ],
   "source": [
    "total_num = 50\n",
    "\n",
    "fibonacci_seq = []\n",
    "\n",
    "first_term, second_term = 0, 1\n",
    "count = 0\n",
    "\n",
    "while count < total_num:\n",
    "\tfibonacci_seq.append(first_term)\n",
    "\tfirst_two_terms_total = first_term + second_term\n",
    "\t\n",
    "\tfirst_term = second_term\n",
    "\tsecond_term = first_two_terms_total\n",
    "\tcount += 1\n",
    "\n",
    "print(f\"The sum of the first {total_num} terms in a Fibonacci sequence is {sum(fibonacci_seq)}\")"
   ]
  }
 ],
 "metadata": {
  "kernelspec": {
   "display_name": "Python 3",
   "language": "python",
   "name": "python3"
  },
  "language_info": {
   "codemirror_mode": {
    "name": "ipython",
    "version": 3
   },
   "file_extension": ".py",
   "mimetype": "text/x-python",
   "name": "python",
   "nbconvert_exporter": "python",
   "pygments_lexer": "ipython3",
   "version": "3.7.2"
  }
 },
 "nbformat": 4,
 "nbformat_minor": 4
}
