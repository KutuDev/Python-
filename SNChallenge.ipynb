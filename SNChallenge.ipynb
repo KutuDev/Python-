{
 "cells": [
  {
   "cell_type": "code",
   "execution_count": 483,
   "metadata": {},
   "outputs": [],
   "source": [
    "import pandas as pd\n",
    "import os\n",
    "import datetime\n",
    "import shutil\n",
    "pd.options.mode.chained_assignment = None"
   ]
  },
  {
   "cell_type": "markdown",
   "metadata": {},
   "source": [
    "## Importation of datasets"
   ]
  },
  {
   "cell_type": "code",
   "execution_count": 484,
   "metadata": {},
   "outputs": [
    {
     "name": "stdout",
     "output_type": "stream",
     "text": [
      "There are 182 total files\n",
      "There are 181 needed csv files\n"
     ]
    }
   ],
   "source": [
    "folder_path = r\"C:\\Users\\Samuel\\Documents\\pascal\"\n",
    "\n",
    "file_names = []     \n",
    "file_count = 0\n",
    "    \n",
    "for subdir, _, files in os.walk(folder_path):\n",
    "    files.sort() #sort files\n",
    "\n",
    "    for filename in files:\n",
    "        if filename.startswith('covid_help_data') is True or filename.startswith('worldwide') is True:\n",
    "            file_count+=1\n",
    "\n",
    "            filepath = subdir + os.sep + filename\n",
    "\n",
    "            if filepath.endswith(\".csv\"):\n",
    "                file_names.append(filepath)\n",
    "        else:\n",
    "            file_count+=1\n",
    "    \n",
    "print(\"There are \" + str(file_count) + \" total files\")   \n",
    "print(\"There are \" + str(len(file_names)) + \" needed csv files\")"
   ]
  },
  {
   "cell_type": "markdown",
   "metadata": {},
   "source": [
    "# Task 1 solution"
   ]
  },
  {
   "cell_type": "markdown",
   "metadata": {},
   "source": [
    "### Gouping of files"
   ]
  },
  {
   "cell_type": "code",
   "execution_count": 485,
   "metadata": {},
   "outputs": [
    {
     "name": "stdout",
     "output_type": "stream",
     "text": [
      "covid* total files: 93\n",
      "world* total files: 88\n"
     ]
    }
   ],
   "source": [
    "covid_file_names = [i for i in file_names if 'covid_help_data' in i]\n",
    "world_file_names = [i for i in file_names if 'worldwide' in i]\n",
    "print(f\"covid* total files: {len(covid_file_names)}\")\n",
    "print(f\"world* total files: {len(world_file_names)}\")"
   ]
  },
  {
   "cell_type": "code",
   "execution_count": 486,
   "metadata": {},
   "outputs": [
    {
     "name": "stdout",
     "output_type": "stream",
     "text": [
      "C:\\Users\\Samuel\\Documents\\pascal\\Group 1\\covid_help_data_01-May-2020 23-40-36.csv\n",
      "23-40-36\n"
     ]
    }
   ],
   "source": [
    "print(covid_file_names[0])\n",
    "print(covid_file_names[0][-12:-4])"
   ]
  },
  {
   "cell_type": "code",
   "execution_count": 487,
   "metadata": {},
   "outputs": [],
   "source": [
    "# Extraction of timestamps for both groups\n",
    "covid_time = {i:datetime.datetime.strptime(i[-12:-4], '%H-%M-%S').time() for i in covid_file_names}\n",
    "world_time = {i:datetime.datetime.strptime(i[-12:-4], '%H-%M-%S').time() for i in world_file_names}"
   ]
  },
  {
   "cell_type": "markdown",
   "metadata": {},
   "source": [
    "## Legend\n",
    "* **Group 1:** covid* 11pm+\n",
    "* **Group 2:** world* 11pm+\n",
    "* **Group 3:** covid* other time\n",
    "* **Group 4:** world* other time"
   ]
  },
  {
   "cell_type": "markdown",
   "metadata": {},
   "source": [
    "### Separation of files into 4 groups"
   ]
  },
  {
   "cell_type": "code",
   "execution_count": 488,
   "metadata": {},
   "outputs": [
    {
     "name": "stdout",
     "output_type": "stream",
     "text": [
      "Group 1 total files: 42\n",
      "Group 3 total files: 51\n",
      "\n",
      "Group 2 total files: 43\n",
      "Group 4 total files: 45\n"
     ]
    }
   ],
   "source": [
    "group_1_file_paths, group_2_file_paths, group_3_file_paths, group_4_file_paths = [], [], [], []\n",
    "\n",
    "for i, j in zip(covid_time.keys(), covid_time.values()):\n",
    "    if j > datetime.datetime.strptime('23-00-00', '%H-%M-%S').time():\n",
    "        group_1_file_paths.append(i)\n",
    "    else:\n",
    "        group_3_file_paths.append(i)\n",
    "\n",
    "print(f\"Group 1 total files: {len(group_1_file_paths)}\")\n",
    "print(f\"Group 3 total files: {len(group_3_file_paths)}\")\n",
    "\n",
    "print()\n",
    "\n",
    "for i, j in zip(world_time.keys(), world_time.values()):\n",
    "    if j > datetime.datetime.strptime('23-00-00', '%H-%M-%S').time():\n",
    "        group_2_file_paths.append(i)\n",
    "    else:\n",
    "        group_4_file_paths.append(i)\n",
    "\n",
    "print(f\"Group 2 total files: {len(group_2_file_paths)}\")\n",
    "print(f\"Group 4 total files: {len(group_4_file_paths)}\")"
   ]
  },
  {
   "cell_type": "code",
   "execution_count": 489,
   "metadata": {},
   "outputs": [
    {
     "name": "stdout",
     "output_type": "stream",
     "text": [
      "covid_help_data_01-May-2020 23-40-36.csv\n",
      "worldwide_01-May-2020 23-49-16.csv\n",
      "covid_help_data_01-May-2020 10-02-27.csv\n",
      "worldwide_01-May-2020 10-11-07.csv\n"
     ]
    }
   ],
   "source": [
    "# Extraction of only the filenames of the dataset per groups\n",
    "group_1_file_names, group_2_file_names, group_3_file_names, group_4_file_names = [i[i.rfind('\\\\')+1:] for i in group_1_file_paths], [i[i.rfind('\\\\')+1:] for i in group_2_file_paths], [i[i.rfind('\\\\')+1:] for i in group_3_file_paths], [i[i.rfind('\\\\')+1:] for i in group_4_file_paths]\n",
    "print(group_1_file_names[0])\n",
    "print(group_2_file_names[0])\n",
    "print(group_3_file_names[0])\n",
    "print(group_4_file_names[0])"
   ]
  },
  {
   "cell_type": "markdown",
   "metadata": {},
   "source": [
    "### Creation of a directory per group and moving of each datsets per group into their respective directories locally"
   ]
  },
  {
   "cell_type": "code",
   "execution_count": 490,
   "metadata": {},
   "outputs": [
    {
     "name": "stdout",
     "output_type": "stream",
     "text": [
      "C:\\Users\\Samuel\\Documents\\pascal\n"
     ]
    }
   ],
   "source": [
    "# for i in range(1, 5):\n",
    "#     os.mkdir(f'C:\\\\Users\\\\Samuel\\\\Documents\\\\pascal\\\\Group {i}')\n",
    "\n",
    "os.chdir(r'C:\\Users\\Samuel\\Documents\\pascal')\n",
    "print(os.getcwd())\n",
    "\n",
    "# for i in group_1_file_names:\n",
    "#     shutil.move(i, 'Group 1')\n",
    "\n",
    "# for i in group_2_file_names:\n",
    "#     shutil.move(i, 'Group 2')\n",
    "    \n",
    "# for i in group_3_file_names:\n",
    "#     shutil.move(i, 'Group 3')\n",
    "    \n",
    "# for i in group_4_file_names:\n",
    "#     shutil.move(i, 'Group 4')"
   ]
  },
  {
   "cell_type": "markdown",
   "metadata": {},
   "source": [
    "# Task 2 solution\n",
    "**Question:** Using Group 2, how many cases did the US and Germany each record in April?"
   ]
  },
  {
   "cell_type": "markdown",
   "metadata": {},
   "source": [
    "### Extraction of Group 2 datasets for the month of April"
   ]
  },
  {
   "cell_type": "code",
   "execution_count": 491,
   "metadata": {},
   "outputs": [
    {
     "name": "stdout",
     "output_type": "stream",
     "text": [
      "19\n",
      "\n",
      "worldwide_02-Apr-2020 23-56-11.csv\n",
      "\n",
      "C:\\Users\\Samuel\\Documents\\pascal\\Group 2\n",
      "\n",
      "19\n",
      "\n",
      "[206, 206, 206, 188, 190, 190, 197, 199, 200, 200, 200, 203, 205, 214, 214, 214, 214, 214, 216]\n",
      "\n",
      "3876\n"
     ]
    }
   ],
   "source": [
    "APRIL_group_2_file_names = [i for i in group_2_file_names if 'Apr' in i]\n",
    "print(len(APRIL_group_2_file_names))\n",
    "\n",
    "print()\n",
    "\n",
    "print(APRIL_group_2_file_names[0])\n",
    "\n",
    "print()\n",
    "\n",
    "os.chdir(r'C:\\Users\\Samuel\\Documents\\pascal\\Group 2')\n",
    "print(os.getcwd())\n",
    "\n",
    "print()\n",
    "\n",
    "APRIL_group_2 = [pd.read_csv(i) for i in APRIL_group_2_file_names]\n",
    "print(len(APRIL_group_2))\n",
    "\n",
    "print()\n",
    "\n",
    "APRIL_group_2_lengths = [len(i) for i in APRIL_group_2]\n",
    "print(APRIL_group_2_lengths)\n",
    "\n",
    "print()\n",
    "\n",
    "print(sum(APRIL_group_2_lengths))"
   ]
  },
  {
   "cell_type": "markdown",
   "metadata": {},
   "source": [
    "### Date-time dataframe to be appended appropriately to the last column in each dataset"
   ]
  },
  {
   "cell_type": "code",
   "execution_count": 492,
   "metadata": {},
   "outputs": [
    {
     "name": "stdout",
     "output_type": "stream",
     "text": [
      "3876\n"
     ]
    }
   ],
   "source": [
    "prefix = 'worldwide_'\n",
    "date = '**-***-****'\n",
    "\n",
    "date_time = {i[len(prefix):len(prefix)+len(date)]:i[-12:-4] for i in APRIL_group_2_file_names}\n",
    "\n",
    "dates = [i for i, j in zip(date_time.keys(), APRIL_group_2_lengths) for _ in range(0, j)]       \n",
    "date_dict = {str(i):j for i, j in zip(range(0, len(dates)), dates)}\n",
    "\n",
    "times = [i for i, j in zip(date_time.values(), APRIL_group_2_lengths) for _ in range(0, j)]       \n",
    "time_dict = {str(i):j for i, j in zip(range(0, len(times)), times)}\n",
    "\n",
    "date_time_df = pd.concat([pd.Series(date_dict), pd.Series(time_dict)], axis = 1)\n",
    "date_time_df.rename(columns = {0:'Date', 1:'Time'}, inplace = True)\n",
    "print(len(date_time_df))"
   ]
  },
  {
   "cell_type": "markdown",
   "metadata": {},
   "source": [
    "### Concating all datasets present in the group\n",
    "`tail-to-head` operation. "
   ]
  },
  {
   "cell_type": "code",
   "execution_count": 493,
   "metadata": {},
   "outputs": [
    {
     "data": {
      "text/plain": [
       "['Country',\n",
       " 'Total confirmed cases',\n",
       " 'Total deaths',\n",
       " 'Confirmed recoveries',\n",
       " 'Cases confirmed today',\n",
       " 'Deaths today',\n",
       " 'Recoveries confirmed today',\n",
       " 'Total confirmed',\n",
       " 'Total_confirmed_today',\n",
       " 'Total_deaths',\n",
       " 'Total_deaths_today',\n",
       " 'Total_Recoveries',\n",
       " 'Total_Recoveries_today',\n",
       " 'Active_confirmed',\n",
       " 'Critical',\n",
       " 'Mortality_close',\n",
       " 'Mortality_confirmed',\n",
       " 'Total_tests',\n",
       " 'Total_tests_today']"
      ]
     },
     "execution_count": 493,
     "metadata": {},
     "output_type": "execute_result"
    }
   ],
   "source": [
    "APRIL_group_2_df = pd.concat(APRIL_group_2)\n",
    "APRIL_group_2_df.columns.tolist()"
   ]
  },
  {
   "cell_type": "markdown",
   "metadata": {},
   "source": [
    "### Date-time dataframe is added to the last column of the concated dataframe"
   ]
  },
  {
   "cell_type": "code",
   "execution_count": 494,
   "metadata": {},
   "outputs": [
    {
     "data": {
      "text/plain": [
       "(3876, 21)"
      ]
     },
     "execution_count": 494,
     "metadata": {},
     "output_type": "execute_result"
    }
   ],
   "source": [
    "APRIL_group_2_df['Date'] = date_time_df.Date.values\n",
    "APRIL_group_2_df['Time'] = date_time_df.Time.values\n",
    "APRIL_group_2_df.shape"
   ]
  },
  {
   "cell_type": "markdown",
   "metadata": {},
   "source": [
    "### Retrieving countries that starts with letters *u* and *g* respectively.\n",
    "**N.B:** This is done becuase some country names could be abbreviated. For example, `US`, `UK`"
   ]
  },
  {
   "cell_type": "code",
   "execution_count": 495,
   "metadata": {},
   "outputs": [
    {
     "data": {
      "text/plain": [
       "{'U_countries': ['USA',\n",
       "  'uganda',\n",
       "  'ukraine',\n",
       "  'united-arab-emirates',\n",
       "  'united-kingdom',\n",
       "  'united-states',\n",
       "  'uruguay',\n",
       "  'uzbekistan'],\n",
       " 'G_countries': ['gabon',\n",
       "  'gambia',\n",
       "  'georgia',\n",
       "  'germany',\n",
       "  'ghana',\n",
       "  'gibraltar',\n",
       "  'greece',\n",
       "  'greenland',\n",
       "  'grenada',\n",
       "  'guadeloupe',\n",
       "  'guatemala',\n",
       "  'guinea',\n",
       "  'guinea-bissau',\n",
       "  'guyana']}"
      ]
     },
     "execution_count": 495,
     "metadata": {},
     "output_type": "execute_result"
    }
   ],
   "source": [
    "u_variants = sorted([i for i in set(APRIL_group_2_df.Country.values) if i.startswith('U') is True or i.startswith('u') is True])\n",
    "g_variants = sorted([i for i in set(APRIL_group_2_df.Country.values) if i.startswith('G') is True or i.startswith('g') is True])\n",
    "var = {'U_countries':u_variants, 'G_countries':g_variants}\n",
    "var"
   ]
  },
  {
   "cell_type": "markdown",
   "metadata": {},
   "source": [
    "### Data preprocessing"
   ]
  },
  {
   "cell_type": "code",
   "execution_count": 496,
   "metadata": {},
   "outputs": [
    {
     "data": {
      "text/html": [
       "<div>\n",
       "<style scoped>\n",
       "    .dataframe tbody tr th:only-of-type {\n",
       "        vertical-align: middle;\n",
       "    }\n",
       "\n",
       "    .dataframe tbody tr th {\n",
       "        vertical-align: top;\n",
       "    }\n",
       "\n",
       "    .dataframe thead th {\n",
       "        text-align: right;\n",
       "    }\n",
       "</style>\n",
       "<table border=\"1\" class=\"dataframe\">\n",
       "  <thead>\n",
       "    <tr style=\"text-align: right;\">\n",
       "      <th></th>\n",
       "      <th>Country</th>\n",
       "      <th>Total confirmed cases</th>\n",
       "      <th>Cases confirmed today</th>\n",
       "      <th>Total confirmed</th>\n",
       "      <th>Total_confirmed_today</th>\n",
       "      <th>Date</th>\n",
       "      <th>Time</th>\n",
       "    </tr>\n",
       "  </thead>\n",
       "  <tbody>\n",
       "    <tr>\n",
       "      <th>0</th>\n",
       "      <td>USA</td>\n",
       "      <td>NaN</td>\n",
       "      <td>NaN</td>\n",
       "      <td>22</td>\n",
       "      <td>1</td>\n",
       "      <td>07-Apr-2020</td>\n",
       "      <td>23-49-27</td>\n",
       "    </tr>\n",
       "    <tr>\n",
       "      <th>1</th>\n",
       "      <td>USA</td>\n",
       "      <td>NaN</td>\n",
       "      <td>NaN</td>\n",
       "      <td>172</td>\n",
       "      <td>14</td>\n",
       "      <td>07-Apr-2020</td>\n",
       "      <td>23-49-27</td>\n",
       "    </tr>\n",
       "    <tr>\n",
       "      <th>2</th>\n",
       "      <td>USA</td>\n",
       "      <td>NaN</td>\n",
       "      <td>NaN</td>\n",
       "      <td>171</td>\n",
       "      <td>7</td>\n",
       "      <td>07-Apr-2020</td>\n",
       "      <td>23-49-27</td>\n",
       "    </tr>\n",
       "    <tr>\n",
       "      <th>3</th>\n",
       "      <td>USA</td>\n",
       "      <td>NaN</td>\n",
       "      <td>NaN</td>\n",
       "      <td>170</td>\n",
       "      <td>25</td>\n",
       "      <td>07-Apr-2020</td>\n",
       "      <td>23-49-27</td>\n",
       "    </tr>\n",
       "    <tr>\n",
       "      <th>4</th>\n",
       "      <td>USA</td>\n",
       "      <td>NaN</td>\n",
       "      <td>NaN</td>\n",
       "      <td>166</td>\n",
       "      <td>1</td>\n",
       "      <td>07-Apr-2020</td>\n",
       "      <td>23-49-27</td>\n",
       "    </tr>\n",
       "    <tr>\n",
       "      <th>...</th>\n",
       "      <td>...</td>\n",
       "      <td>...</td>\n",
       "      <td>...</td>\n",
       "      <td>...</td>\n",
       "      <td>...</td>\n",
       "      <td>...</td>\n",
       "      <td>...</td>\n",
       "    </tr>\n",
       "    <tr>\n",
       "      <th>3871</th>\n",
       "      <td>zimbabwe</td>\n",
       "      <td>9</td>\n",
       "      <td>0</td>\n",
       "      <td>NaN</td>\n",
       "      <td>NaN</td>\n",
       "      <td>03-Apr-2020</td>\n",
       "      <td>23-40-26</td>\n",
       "    </tr>\n",
       "    <tr>\n",
       "      <th>3872</th>\n",
       "      <td>zimbabwe</td>\n",
       "      <td>NaN</td>\n",
       "      <td>NaN</td>\n",
       "      <td>25</td>\n",
       "      <td>1</td>\n",
       "      <td>19-Apr-2020</td>\n",
       "      <td>23-49-16</td>\n",
       "    </tr>\n",
       "    <tr>\n",
       "      <th>3873</th>\n",
       "      <td>zimbabwe</td>\n",
       "      <td>NaN</td>\n",
       "      <td>NaN</td>\n",
       "      <td>23</td>\n",
       "      <td>6</td>\n",
       "      <td>16-Apr-2020</td>\n",
       "      <td>23-49-31</td>\n",
       "    </tr>\n",
       "    <tr>\n",
       "      <th>3874</th>\n",
       "      <td>zimbabwe</td>\n",
       "      <td>NaN</td>\n",
       "      <td>NaN</td>\n",
       "      <td>28</td>\n",
       "      <td>3</td>\n",
       "      <td>22-Apr-2020</td>\n",
       "      <td>23-49-01</td>\n",
       "    </tr>\n",
       "    <tr>\n",
       "      <th>3875</th>\n",
       "      <td>zimbabwe</td>\n",
       "      <td>NaN</td>\n",
       "      <td>NaN</td>\n",
       "      <td>23</td>\n",
       "      <td>6</td>\n",
       "      <td>15-Apr-2020</td>\n",
       "      <td>23-49-27</td>\n",
       "    </tr>\n",
       "  </tbody>\n",
       "</table>\n",
       "<p>3876 rows × 7 columns</p>\n",
       "</div>"
      ],
      "text/plain": [
       "       Country Total confirmed cases Cases confirmed today Total confirmed  \\\n",
       "0          USA                   NaN                   NaN              22   \n",
       "1          USA                   NaN                   NaN             172   \n",
       "2          USA                   NaN                   NaN             171   \n",
       "3          USA                   NaN                   NaN             170   \n",
       "4          USA                   NaN                   NaN             166   \n",
       "...        ...                   ...                   ...             ...   \n",
       "3871  zimbabwe                     9                     0             NaN   \n",
       "3872  zimbabwe                   NaN                   NaN              25   \n",
       "3873  zimbabwe                   NaN                   NaN              23   \n",
       "3874  zimbabwe                   NaN                   NaN              28   \n",
       "3875  zimbabwe                   NaN                   NaN              23   \n",
       "\n",
       "     Total_confirmed_today         Date      Time  \n",
       "0                        1  07-Apr-2020  23-49-27  \n",
       "1                       14  07-Apr-2020  23-49-27  \n",
       "2                        7  07-Apr-2020  23-49-27  \n",
       "3                       25  07-Apr-2020  23-49-27  \n",
       "4                        1  07-Apr-2020  23-49-27  \n",
       "...                    ...          ...       ...  \n",
       "3871                   NaN  03-Apr-2020  23-40-26  \n",
       "3872                     1  19-Apr-2020  23-49-16  \n",
       "3873                     6  16-Apr-2020  23-49-31  \n",
       "3874                     3  22-Apr-2020  23-49-01  \n",
       "3875                     6  15-Apr-2020  23-49-27  \n",
       "\n",
       "[3876 rows x 7 columns]"
      ]
     },
     "execution_count": 496,
     "metadata": {},
     "output_type": "execute_result"
    }
   ],
   "source": [
    "cols = ['Country', 'Total confirmed cases', 'Cases confirmed today', 'Total confirmed', 'Total_confirmed_today', 'Date', 'Time']\n",
    "APRIL_group_2_df_valid = APRIL_group_2_df[cols].sort_values(by = 'Country')\n",
    "APRIL_group_2_df_valid.reset_index(drop = True)"
   ]
  },
  {
   "cell_type": "markdown",
   "metadata": {},
   "source": [
    "### Data processing"
   ]
  },
  {
   "cell_type": "code",
   "execution_count": 497,
   "metadata": {},
   "outputs": [
    {
     "name": "stdout",
     "output_type": "stream",
     "text": [
      "0\n",
      "0\n"
     ]
    }
   ],
   "source": [
    "APRIL_group_2_df_valid.fillna(0, inplace = True)\n",
    "\n",
    "APRIL_group_2_df_valid['Cases confirmed today'] = APRIL_group_2_df_valid['Cases confirmed today'].astype(str)\n",
    "APRIL_group_2_df_valid['Total_confirmed_today'] = APRIL_group_2_df_valid['Total_confirmed_today'].astype(str)\n",
    "APRIL_group_2_df_valid['Total confirmed cases'] = APRIL_group_2_df_valid['Total confirmed cases'].astype(str)\n",
    "APRIL_group_2_df_valid['Total confirmed'] = APRIL_group_2_df_valid['Total confirmed'].astype(str)\n",
    "\n",
    "APRIL_group_2_df_valid['Cases confirmed today'] = APRIL_group_2_df_valid['Cases confirmed today'].apply(lambda x: x.replace(',', ''))\n",
    "APRIL_group_2_df_valid['Total_confirmed_today'] = APRIL_group_2_df_valid['Total_confirmed_today'].apply(lambda x: x.replace(',', ''))\n",
    "APRIL_group_2_df_valid['Total confirmed cases'] = APRIL_group_2_df_valid['Total confirmed cases'].apply(lambda x: x.replace(',', ''))\n",
    "APRIL_group_2_df_valid['Total confirmed'] = APRIL_group_2_df_valid['Total confirmed'].apply(lambda x: x.replace(',', ''))\n",
    "\n",
    "APRIL_group_2_df_valid['Cases confirmed today'] = APRIL_group_2_df_valid['Cases confirmed today'].astype(int)\n",
    "APRIL_group_2_df_valid['Total_confirmed_today'] = APRIL_group_2_df_valid['Total_confirmed_today'].astype(int)\n",
    "APRIL_group_2_df_valid['Total confirmed cases'] = APRIL_group_2_df_valid['Total confirmed cases'].astype(int)\n",
    "APRIL_group_2_df_valid['Total confirmed'] = APRIL_group_2_df_valid['Total confirmed'].astype(int)\n",
    "\n",
    "\n",
    "APRIL_group_2_df_valid['Total_cases_today'] = APRIL_group_2_df_valid['Cases confirmed today'] + APRIL_group_2_df_valid['Total_confirmed_today']\n",
    "APRIL_group_2_df_valid['Cumulative_total_cases'] = APRIL_group_2_df_valid['Total confirmed cases'] + APRIL_group_2_df_valid['Total confirmed']\n",
    "\n",
    "APRIL_group_2_df_valid_final = APRIL_group_2_df_valid[['Country', 'Total_cases_today', 'Cumulative_total_cases', 'Date', 'Time']]\n",
    "\n",
    "# This confirms that the different column names for each similar records across the datasets concated maintains the data integrity\n",
    "print(len(APRIL_group_2_df_valid.loc[((APRIL_group_2_df_valid['Cases confirmed today'] > 0) & (APRIL_group_2_df_valid['Total_confirmed_today'] > 0))]))\n",
    "print(len(APRIL_group_2_df_valid.loc[((APRIL_group_2_df_valid['Total confirmed cases'] > 0) & (APRIL_group_2_df_valid['Total confirmed'] > 0))]))"
   ]
  },
  {
   "cell_type": "markdown",
   "metadata": {},
   "source": [
    "### Data split per country"
   ]
  },
  {
   "cell_type": "code",
   "execution_count": 498,
   "metadata": {},
   "outputs": [
    {
     "name": "stdout",
     "output_type": "stream",
     "text": [
      "584\n",
      "16\n"
     ]
    }
   ],
   "source": [
    "US = APRIL_group_2_df_valid_final.loc[((APRIL_group_2_df_valid_final.Country == 'USA') | (APRIL_group_2_df_valid_final.Country == 'united-states'))]\n",
    "germany = APRIL_group_2_df_valid_final[APRIL_group_2_df_valid_final['Country'] == 'germany']\n",
    "\n",
    "print(len(US))\n",
    "print(len(germany))"
   ]
  },
  {
   "cell_type": "markdown",
   "metadata": {},
   "source": [
    "### Analysis result"
   ]
  },
  {
   "cell_type": "code",
   "execution_count": 499,
   "metadata": {},
   "outputs": [
    {
     "name": "stdout",
     "output_type": "stream",
     "text": [
      "Total US cases in April: 851,822\n",
      "Total Germany cases in April: 78,215\n"
     ]
    }
   ],
   "source": [
    "print(f\"Total US cases in April: {(US['Cumulative_total_cases'].loc[US.Date == dates[-1]].item()) - (US['Cumulative_total_cases'].loc[US.Date == dates[0]].item()):,}\")\n",
    "print(f\"Total Germany cases in April: {(germany['Cumulative_total_cases'].loc[germany.Date == dates[-1]].item()) - (germany['Cumulative_total_cases'].loc[germany.Date == dates[0]].item()):,}\")\n",
    "\n",
    "# print()\n",
    "\n",
    "# print(f\"Total US cases per day in April: {US['Total_cases_today'].sum():,}\")\n",
    "# print(f\"Total Germany per day cases in April: {germany['Total_cases_today'].sum():,}\")"
   ]
  },
  {
   "cell_type": "markdown",
   "metadata": {},
   "source": [
    "**NB:** *The flow of approach for solving task 3 as illustrated below is exactly similar to that of task 2 above. Hence, no repetition of markdown cells, comments*."
   ]
  },
  {
   "cell_type": "markdown",
   "metadata": {},
   "source": [
    "# Task 3 solution\n",
    "**Question:** Using Group 2, how many cases did the US and Germany each record in April?"
   ]
  },
  {
   "cell_type": "code",
   "execution_count": 500,
   "metadata": {},
   "outputs": [
    {
     "name": "stdout",
     "output_type": "stream",
     "text": [
      "28\n",
      "\n",
      "covid_help_data_03-Apr-2020 00-40-28.csv\n",
      "\n",
      "C:\\Users\\Samuel\\Documents\\pascal\\Group 3\n",
      "\n",
      "28\n",
      "\n",
      "[209, 209, 209, 210, 212, 212, 212, 218, 213, 213, 213, 213, 213, 213, 214, 214, 214, 214, 214, 214, 214, 214, 214, 214, 214, 214, 214, 214]\n",
      "\n",
      "5965\n"
     ]
    }
   ],
   "source": [
    "APRIL_group_3_file_names = [i for i in group_3_file_names if 'Apr' in i]\n",
    "print(len(APRIL_group_3_file_names))\n",
    "\n",
    "print()\n",
    "\n",
    "print(APRIL_group_3_file_names[0])\n",
    "\n",
    "print()\n",
    "\n",
    "os.chdir(r'C:\\Users\\Samuel\\Documents\\pascal\\Group 3')\n",
    "print(os.getcwd())\n",
    "\n",
    "print()\n",
    "\n",
    "APRIL_group_3 = [pd.read_csv(i) for i in APRIL_group_3_file_names]\n",
    "print(len(APRIL_group_3))\n",
    "\n",
    "print()\n",
    "\n",
    "APRIL_group_3_lengths = [len(i) for i in APRIL_group_3]\n",
    "print(APRIL_group_3_lengths)\n",
    "\n",
    "print()\n",
    "\n",
    "print(sum(APRIL_group_3_lengths))"
   ]
  },
  {
   "cell_type": "code",
   "execution_count": 501,
   "metadata": {},
   "outputs": [
    {
     "name": "stdout",
     "output_type": "stream",
     "text": [
      "5965\n"
     ]
    }
   ],
   "source": [
    "prefix_a = 'covid_help_data_'\n",
    "date_a = '**-***-****'\n",
    "\n",
    "date_1 = [i[len(prefix_a):len(prefix_a)+len(date_a)] for i in APRIL_group_3_file_names]\n",
    "time_1 = [i[-12:-4] for i in APRIL_group_3_file_names]\n",
    "\n",
    "dates_a = [i for i, j in zip(date_1, APRIL_group_3_lengths) for _ in range(0, j)]       \n",
    "date_dict_a = {str(i):j for i, j in zip(range(0, len(dates_a)), dates_a)}\n",
    "\n",
    "times_a = [i for i, j in zip(time_1, APRIL_group_3_lengths) for _ in range(0, j)]       \n",
    "time_dict_a = {str(i):j for i, j in zip(range(0, len(times_a)), times_a)}\n",
    "\n",
    "date_time_df_a = pd.concat([pd.Series(date_dict_a), pd.Series(time_dict_a)], axis = 1)\n",
    "date_time_df_a.rename(columns = {0:'Date', 1:'Time'}, inplace = True)\n",
    "print(len(date_time_df_a))"
   ]
  },
  {
   "cell_type": "code",
   "execution_count": 502,
   "metadata": {},
   "outputs": [
    {
     "data": {
      "text/plain": [
       "['countries',\n",
       " 'infected',\n",
       " 'deaths',\n",
       " 'recovered',\n",
       " 'active',\n",
       " 'death_rate',\n",
       " 'recovery_rate',\n",
       " 'infected_today',\n",
       " 'deaths_today',\n",
       " 'recovered_today',\n",
       " 'critical',\n",
       " 'tests']"
      ]
     },
     "execution_count": 502,
     "metadata": {},
     "output_type": "execute_result"
    }
   ],
   "source": [
    "APRIL_group_3_df = pd.concat(APRIL_group_3)\n",
    "APRIL_group_3_df.columns.tolist()"
   ]
  },
  {
   "cell_type": "code",
   "execution_count": 503,
   "metadata": {},
   "outputs": [
    {
     "data": {
      "text/plain": [
       "(5965, 14)"
      ]
     },
     "execution_count": 503,
     "metadata": {},
     "output_type": "execute_result"
    }
   ],
   "source": [
    "APRIL_group_3_df['Date'] = date_time_df_a.Date.values\n",
    "APRIL_group_3_df['Time'] = date_time_df_a.Time.values\n",
    "APRIL_group_3_df.shape"
   ]
  },
  {
   "cell_type": "code",
   "execution_count": 504,
   "metadata": {},
   "outputs": [
    {
     "data": {
      "text/plain": [
       "{'I_countries': ['Iceland',\n",
       "  'India',\n",
       "  'Indonesia',\n",
       "  'Iran',\n",
       "  'Iraq',\n",
       "  'Ireland',\n",
       "  'Isle of Man',\n",
       "  'Israel',\n",
       "  'Italy',\n",
       "  'Ivory Coast'],\n",
       " 'R_countries': ['Romania', 'Russia', 'Rwanda', 'Réunion']}"
      ]
     },
     "execution_count": 504,
     "metadata": {},
     "output_type": "execute_result"
    }
   ],
   "source": [
    "i_variants = sorted([i for i in set(APRIL_group_3_df.countries.values) if i.startswith('I') is True or i.startswith('i') is True])\n",
    "r_variants = sorted([i for i in set(APRIL_group_3_df.countries.values) if i.startswith('R') is True or i.startswith('r') is True])\n",
    "vars_ = {'I_countries':i_variants, 'R_countries':r_variants}\n",
    "vars_"
   ]
  },
  {
   "cell_type": "code",
   "execution_count": 505,
   "metadata": {},
   "outputs": [
    {
     "data": {
      "text/html": [
       "<div>\n",
       "<style scoped>\n",
       "    .dataframe tbody tr th:only-of-type {\n",
       "        vertical-align: middle;\n",
       "    }\n",
       "\n",
       "    .dataframe tbody tr th {\n",
       "        vertical-align: top;\n",
       "    }\n",
       "\n",
       "    .dataframe thead th {\n",
       "        text-align: right;\n",
       "    }\n",
       "</style>\n",
       "<table border=\"1\" class=\"dataframe\">\n",
       "  <thead>\n",
       "    <tr style=\"text-align: right;\">\n",
       "      <th></th>\n",
       "      <th>countries</th>\n",
       "      <th>infected</th>\n",
       "      <th>infected_today</th>\n",
       "      <th>Date</th>\n",
       "      <th>Time</th>\n",
       "    </tr>\n",
       "  </thead>\n",
       "  <tbody>\n",
       "    <tr>\n",
       "      <th>0</th>\n",
       "      <td>Afghanistan</td>\n",
       "      <td>281</td>\n",
       "      <td>NaN</td>\n",
       "      <td>04-Apr-2020</td>\n",
       "      <td>00-40-27</td>\n",
       "    </tr>\n",
       "    <tr>\n",
       "      <th>1</th>\n",
       "      <td>Afghanistan</td>\n",
       "      <td>1026</td>\n",
       "      <td>30.0</td>\n",
       "      <td>20-Apr-2020</td>\n",
       "      <td>10-02-25</td>\n",
       "    </tr>\n",
       "    <tr>\n",
       "      <th>2</th>\n",
       "      <td>Afghanistan</td>\n",
       "      <td>607</td>\n",
       "      <td>52.0</td>\n",
       "      <td>12-Apr-2020</td>\n",
       "      <td>14-58-08</td>\n",
       "    </tr>\n",
       "    <tr>\n",
       "      <th>3</th>\n",
       "      <td>Afghanistan</td>\n",
       "      <td>444</td>\n",
       "      <td>0.0</td>\n",
       "      <td>09-Apr-2020</td>\n",
       "      <td>06-40-42</td>\n",
       "    </tr>\n",
       "    <tr>\n",
       "      <th>4</th>\n",
       "      <td>Afghanistan</td>\n",
       "      <td>1092</td>\n",
       "      <td>66.0</td>\n",
       "      <td>21-Apr-2020</td>\n",
       "      <td>10-02-27</td>\n",
       "    </tr>\n",
       "    <tr>\n",
       "      <th>...</th>\n",
       "      <td>...</td>\n",
       "      <td>...</td>\n",
       "      <td>...</td>\n",
       "      <td>...</td>\n",
       "      <td>...</td>\n",
       "    </tr>\n",
       "    <tr>\n",
       "      <th>5960</th>\n",
       "      <td>Zimbabwe</td>\n",
       "      <td>24</td>\n",
       "      <td>0.0</td>\n",
       "      <td>18-Apr-2020</td>\n",
       "      <td>10-02-21</td>\n",
       "    </tr>\n",
       "    <tr>\n",
       "      <th>5961</th>\n",
       "      <td>Zimbabwe</td>\n",
       "      <td>40</td>\n",
       "      <td>8.0</td>\n",
       "      <td>30-Apr-2020</td>\n",
       "      <td>10-02-28</td>\n",
       "    </tr>\n",
       "    <tr>\n",
       "      <th>5962</th>\n",
       "      <td>Zimbabwe</td>\n",
       "      <td>25</td>\n",
       "      <td>0.0</td>\n",
       "      <td>20-Apr-2020</td>\n",
       "      <td>10-02-25</td>\n",
       "    </tr>\n",
       "    <tr>\n",
       "      <th>5963</th>\n",
       "      <td>Zimbabwe</td>\n",
       "      <td>10</td>\n",
       "      <td>0.0</td>\n",
       "      <td>07-Apr-2020</td>\n",
       "      <td>14-39-19</td>\n",
       "    </tr>\n",
       "    <tr>\n",
       "      <th>5964</th>\n",
       "      <td>Zimbabwe</td>\n",
       "      <td>11</td>\n",
       "      <td>0.0</td>\n",
       "      <td>09-Apr-2020</td>\n",
       "      <td>06-40-42</td>\n",
       "    </tr>\n",
       "  </tbody>\n",
       "</table>\n",
       "<p>5965 rows × 5 columns</p>\n",
       "</div>"
      ],
      "text/plain": [
       "        countries  infected  infected_today         Date      Time\n",
       "0     Afghanistan       281             NaN  04-Apr-2020  00-40-27\n",
       "1     Afghanistan      1026            30.0  20-Apr-2020  10-02-25\n",
       "2     Afghanistan       607            52.0  12-Apr-2020  14-58-08\n",
       "3     Afghanistan       444             0.0  09-Apr-2020  06-40-42\n",
       "4     Afghanistan      1092            66.0  21-Apr-2020  10-02-27\n",
       "...           ...       ...             ...          ...       ...\n",
       "5960     Zimbabwe        24             0.0  18-Apr-2020  10-02-21\n",
       "5961     Zimbabwe        40             8.0  30-Apr-2020  10-02-28\n",
       "5962     Zimbabwe        25             0.0  20-Apr-2020  10-02-25\n",
       "5963     Zimbabwe        10             0.0  07-Apr-2020  14-39-19\n",
       "5964     Zimbabwe        11             0.0  09-Apr-2020  06-40-42\n",
       "\n",
       "[5965 rows x 5 columns]"
      ]
     },
     "execution_count": 505,
     "metadata": {},
     "output_type": "execute_result"
    }
   ],
   "source": [
    "cols = ['countries', 'infected', 'infected_today', 'Date', 'Time']\n",
    "APRIL_group_3_df_valid = APRIL_group_3_df[cols].sort_values(by = 'countries')\n",
    "APRIL_group_3_df_valid.reset_index(drop = True)"
   ]
  },
  {
   "cell_type": "code",
   "execution_count": 506,
   "metadata": {},
   "outputs": [
    {
     "name": "stdout",
     "output_type": "stream",
     "text": [
      "28\n",
      "28\n"
     ]
    }
   ],
   "source": [
    "APRIL_group_3_df_valid.fillna(0, inplace = True)\n",
    "\n",
    "APRIL_group_3_df_valid['infected_today'] = APRIL_group_3_df_valid['infected_today'].astype(int)\n",
    "\n",
    "italy = APRIL_group_3_df_valid[APRIL_group_3_df_valid['countries'] == 'Italy']\n",
    "russia = APRIL_group_3_df_valid[APRIL_group_3_df_valid['countries'] == 'Russia']\n",
    "\n",
    "print(len(italy))\n",
    "print(len(russia))"
   ]
  },
  {
   "cell_type": "markdown",
   "metadata": {},
   "source": [
    "### Analysis result"
   ]
  },
  {
   "cell_type": "code",
   "execution_count": 507,
   "metadata": {},
   "outputs": [
    {
     "name": "stdout",
     "output_type": "stream",
     "text": [
      "Total Italy cases in April: 88,349\n",
      "Total Russia cases in April: 102,950\n"
     ]
    }
   ],
   "source": [
    "print(f\"Total Italy cases in April: {(italy['infected'].loc[italy.Date == dates_a[-1]].item()) - (italy['infected'].loc[italy.Date == dates_a[0]].item()):,}\")\n",
    "print(f\"Total Russia cases in April: {(russia['infected'].loc[russia.Date == dates_a[-1]].item()) - (russia['infected'].loc[russia.Date == dates_a[0]].item()):,}\")\n",
    "\n",
    "# print()\n",
    "\n",
    "# print(f\"Total Italy per cases today in April: {italy['infected_today'].sum():,}\")\n",
    "# print(f\"Total Russia per cases today in April: {russia['infected_today'].sum():,}\")"
   ]
  },
  {
   "cell_type": "code",
   "execution_count": null,
   "metadata": {},
   "outputs": [],
   "source": []
  }
 ],
 "metadata": {
  "kernelspec": {
   "display_name": "Python 3",
   "language": "python",
   "name": "python3"
  },
  "language_info": {
   "codemirror_mode": {
    "name": "ipython",
    "version": 3
   },
   "file_extension": ".py",
   "mimetype": "text/x-python",
   "name": "python",
   "nbconvert_exporter": "python",
   "pygments_lexer": "ipython3",
   "version": "3.7.6"
  }
 },
 "nbformat": 4,
 "nbformat_minor": 4
}
